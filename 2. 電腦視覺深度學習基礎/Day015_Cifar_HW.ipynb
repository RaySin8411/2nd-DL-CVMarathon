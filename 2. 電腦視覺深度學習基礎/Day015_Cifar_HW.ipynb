{
 "cells": [
  {
   "cell_type": "markdown",
   "metadata": {},
   "source": [
    "## 『本次練習內容』\n",
    "#### 運用這幾天所學觀念搭建一個CNN分類器"
   ]
  },
  {
   "cell_type": "markdown",
   "metadata": {},
   "source": [
    "## 『本次練習目的』\n",
    "  #### 熟悉CNN分類器搭建步驟與原理\n",
    "  #### 學員們可以嘗試不同搭法，如使用不同的Maxpooling層，用GlobalAveragePooling取代Flatten等等"
   ]
  },
  {
   "cell_type": "code",
   "execution_count": 1,
   "metadata": {},
   "outputs": [],
   "source": [
    "from tensorflow.keras.models import Sequential\n",
    "from tensorflow.keras.layers import Convolution2D\n",
    "from tensorflow.keras.layers import MaxPooling2D\n",
    "from tensorflow.keras.layers import Flatten\n",
    "from tensorflow.keras.layers import Dense\n",
    "from tensorflow.keras.layers import Dropout\n",
    "from tensorflow.keras.layers import BatchNormalization\n",
    "from tensorflow.keras.datasets import cifar10\n",
    "import numpy as np\n",
    "import tensorflow as tf\n",
    "from sklearn.preprocessing import OneHotEncoder\n"
   ]
  },
  {
   "cell_type": "code",
   "execution_count": 2,
   "metadata": {},
   "outputs": [
    {
     "name": "stdout",
     "output_type": "stream",
     "text": [
      "(50000, 32, 32, 3)\n"
     ]
    }
   ],
   "source": [
    "(x_train, y_train), (x_test, y_test) = cifar10.load_data()\n",
    "\n",
    "print(x_train.shape) #(50000, 32, 32, 3)\n",
    "\n",
    "## Normalize Data\n",
    "def normalize(X_train,X_test):\n",
    "        mean = np.mean(X_train,axis=(0,1,2,3))\n",
    "        std = np.std(X_train, axis=(0, 1, 2, 3))\n",
    "        X_train = (X_train-mean)/(std+1e-7)\n",
    "        X_test = (X_test-mean)/(std+1e-7) \n",
    "        return X_train, X_test,mean,std\n",
    "    \n",
    "    \n",
    "## Normalize Training and Testset    \n",
    "x_train, x_test,mean_train,std_train = normalize(x_train, x_test) "
   ]
  },
  {
   "cell_type": "code",
   "execution_count": 3,
   "metadata": {},
   "outputs": [
    {
     "name": "stderr",
     "output_type": "stream",
     "text": [
      "C:\\Users\\q8977\\Anaconda3\\lib\\site-packages\\sklearn\\preprocessing\\_encoders.py:415: FutureWarning: The handling of integer data will change in version 0.22. Currently, the categories are determined based on the range [0, max(values)], while in the future they will be determined based on the unique values.\n",
      "If you want the future behaviour and silence this warning, you can specify \"categories='auto'\".\n",
      "In case you used a LabelEncoder before this OneHotEncoder to convert the categories to integers, then you can now use the OneHotEncoder directly.\n",
      "  warnings.warn(msg, FutureWarning)\n"
     ]
    }
   ],
   "source": [
    "## OneHot Label 由(None, 1)-(None, 10)\n",
    "## ex. label=2,變成[0,0,1,0,0,0,0,0,0,0]\n",
    "one_hot=OneHotEncoder()\n",
    "y_train=one_hot.fit_transform(y_train).toarray()\n",
    "y_test=one_hot.transform(y_test).toarray()"
   ]
  },
  {
   "cell_type": "code",
   "execution_count": 4,
   "metadata": {},
   "outputs": [
    {
     "name": "stdout",
     "output_type": "stream",
     "text": [
      "Train on 50000 samples\n",
      "Epoch 1/20\n",
      "50000/50000 [==============================] - 54s 1ms/sample - loss: 1.3879 - accuracy: 0.5170\n",
      "Epoch 2/20\n",
      "50000/50000 [==============================] - 56s 1ms/sample - loss: 0.9348 - accuracy: 0.6732\n",
      "Epoch 3/20\n",
      "50000/50000 [==============================] - 56s 1ms/sample - loss: 0.7577 - accuracy: 0.7355\n",
      "Epoch 4/20\n",
      "50000/50000 [==============================] - 56s 1ms/sample - loss: 0.6123 - accuracy: 0.7851\n",
      "Epoch 5/20\n",
      "50000/50000 [==============================] - 57s 1ms/sample - loss: 0.4733 - accuracy: 0.8367\n",
      "Epoch 6/20\n",
      "50000/50000 [==============================] - 53s 1ms/sample - loss: 0.3560 - accuracy: 0.8770\n",
      "Epoch 7/20\n",
      "50000/50000 [==============================] - 53s 1ms/sample - loss: 0.2533 - accuracy: 0.9133\n",
      "Epoch 8/20\n",
      "50000/50000 [==============================] - 54s 1ms/sample - loss: 0.1837 - accuracy: 0.9373\n",
      "Epoch 9/20\n",
      "50000/50000 [==============================] - 55s 1ms/sample - loss: 0.1498 - accuracy: 0.9496\n",
      "Epoch 10/20\n",
      "50000/50000 [==============================] - 54s 1ms/sample - loss: 0.1138 - accuracy: 0.9614\n",
      "Epoch 11/20\n",
      "50000/50000 [==============================] - 54s 1ms/sample - loss: 0.1088 - accuracy: 0.9624\n",
      "Epoch 12/20\n",
      "50000/50000 [==============================] - 54s 1ms/sample - loss: 0.1026 - accuracy: 0.9640\n",
      "Epoch 13/20\n",
      "50000/50000 [==============================] - 55s 1ms/sample - loss: 0.0888 - accuracy: 0.9696\n",
      "Epoch 14/20\n",
      "50000/50000 [==============================] - 56s 1ms/sample - loss: 0.0864 - accuracy: 0.9705\n",
      "Epoch 15/20\n",
      "50000/50000 [==============================] - 57s 1ms/sample - loss: 0.0658 - accuracy: 0.9779\n",
      "Epoch 16/20\n",
      "50000/50000 [==============================] - 56s 1ms/sample - loss: 0.0536 - accuracy: 0.9824\n",
      "Epoch 17/20\n",
      "50000/50000 [==============================] - 56s 1ms/sample - loss: 0.0668 - accuracy: 0.9776\n",
      "Epoch 18/20\n",
      "50000/50000 [==============================] - 54s 1ms/sample - loss: 0.0693 - accuracy: 0.9769\n",
      "Epoch 19/20\n",
      "50000/50000 [==============================] - 54s 1ms/sample - loss: 0.0565 - accuracy: 0.9812\n",
      "Epoch 20/20\n",
      "50000/50000 [==============================] - 54s 1ms/sample - loss: 0.0525 - accuracy: 0.9824\n"
     ]
    },
    {
     "data": {
      "text/plain": [
       "<tensorflow.python.keras.callbacks.History at 0x2693e07f688>"
      ]
     },
     "execution_count": 4,
     "metadata": {},
     "output_type": "execute_result"
    }
   ],
   "source": [
    "\n",
    "classifier=Sequential()\n",
    "\n",
    "#Conv+BN\n",
    "classifier.add(Convolution2D(filters=32,kernel_size=(3,3),input_shape=(32,32,3),activation='relu'))\n",
    "classifier.add(BatchNormalization())\n",
    "#Conv+BN\n",
    "classifier.add(Convolution2D(filters=32,kernel_size=(3,3),activation='relu'))\n",
    "classifier.add(BatchNormalization())\n",
    "#Pooling\n",
    "classifier.add(MaxPooling2D(pool_size=(2,2)))\n",
    "#flatten\n",
    "classifier.add(Flatten())\n",
    "\n",
    "#FC\n",
    "classifier.add(Dense(100,activation='relu'))\n",
    "\n",
    "#Output\n",
    "classifier.add(Dense(10,activation='softmax'))\n",
    "\n",
    "#超過兩個就要選categorical_crossentrophy\n",
    "classifier.compile(optimizer = 'adam', loss = 'categorical_crossentropy', metrics = ['accuracy'])\n",
    "classifier.fit(x_train,y_train,batch_size=100,epochs=20)"
   ]
  },
  {
   "cell_type": "markdown",
   "metadata": {},
   "source": [
    "## 預測新圖片，輸入影像前處理要與訓練時相同\n",
    "#### ((X-mean)/(std+1e-7) ):這裡的mean跟std是訓練集的\n",
    "## 維度如下方示範"
   ]
  },
  {
   "cell_type": "code",
   "execution_count": 5,
   "metadata": {},
   "outputs": [
    {
     "data": {
      "text/plain": [
       "array([[1.6269659e-16, 9.2814380e-29, 3.5505120e-11, 1.0000000e+00,\n",
       "        4.1637041e-11, 4.5508360e-25, 1.6156577e-19, 6.7978425e-26,\n",
       "        1.5653182e-16, 1.8262036e-27]], dtype=float32)"
      ]
     },
     "execution_count": 5,
     "metadata": {},
     "output_type": "execute_result"
    }
   ],
   "source": [
    "input_example=(np.zeros(shape=(1,32,32,3))-mean_train)/(std_train+1e-7) \n",
    "classifier.predict(input_example)"
   ]
  }
 ],
 "metadata": {
  "kernelspec": {
   "display_name": "Python 3",
   "language": "python",
   "name": "python3"
  },
  "language_info": {
   "codemirror_mode": {
    "name": "ipython",
    "version": 3
   },
   "file_extension": ".py",
   "mimetype": "text/x-python",
   "name": "python",
   "nbconvert_exporter": "python",
   "pygments_lexer": "ipython3",
   "version": "3.7.4"
  }
 },
 "nbformat": 4,
 "nbformat_minor": 2
}
