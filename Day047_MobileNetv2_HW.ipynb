{
 "cells": [
  {
   "cell_type": "markdown",
   "metadata": {},
   "source": [
    "# 作業"
   ]
  },
  {
   "cell_type": "markdown",
   "metadata": {},
   "source": [
    "### 嘗試用 keras 的 DepthwiseConv2D 等 layers 實做 Inverted Residual Block.\n",
    "   - depthwise's filter shape 爲 (3,3), padding = same\n",
    "   - 不需要給 alpha, depth multiplier 參數\n",
    "   - expansion 因子爲 6"
   ]
  },
  {
   "cell_type": "markdown",
   "metadata": {},
   "source": [
    "##### 載入套件"
   ]
  },
  {
   "cell_type": "code",
   "execution_count": 1,
   "metadata": {},
   "outputs": [],
   "source": [
    "from tensorflow.keras import Input\n",
    "from tensorflow.keras.models import Model\n",
    "from tensorflow.keras.layers import DepthwiseConv2D, Conv2D, BatchNormalization, ReLU, Add"
   ]
  },
  {
   "cell_type": "markdown",
   "metadata": {},
   "source": [
    "##### 定義 Separable Convolution 函數 (請在此實做)"
   ]
  },
  {
   "cell_type": "code",
   "execution_count": 2,
   "metadata": {},
   "outputs": [],
   "source": [
    "def InvertedRes(input, expansion):\n",
    "    '''\n",
    "    Args:\n",
    "        input: input tensor\n",
    "        expansion: expand filters size\n",
    "    Output:\n",
    "        output: output tensor\n",
    "    '''\n",
    "    \n",
    "    x = DepthwiseConv2D(kernel_size=(3,3), padding='same')(input)\n",
    "    x = BatchNormalization()(x)\n",
    "    x = ReLU(threshold=expansion)(x)\n",
    "    x = Conv2D(filters=3,kernel_size=(1,1))(x)\n",
    "    x = BatchNormalization()(x)\n",
    "    x = ReLU(threshold=expansion)(x)\n",
    "    x = Add()([x,input])\n",
    "    return x"
   ]
  },
  {
   "cell_type": "markdown",
   "metadata": {},
   "source": [
    "##### 建構模型"
   ]
  },
  {
   "cell_type": "code",
   "execution_count": 3,
   "metadata": {},
   "outputs": [
    {
     "name": "stdout",
     "output_type": "stream",
     "text": [
      "Model: \"model\"\n",
      "__________________________________________________________________________________________________\n",
      "Layer (type)                    Output Shape         Param #     Connected to                     \n",
      "==================================================================================================\n",
      "input_1 (InputLayer)            [(None, 64, 64, 3)]  0                                            \n",
      "__________________________________________________________________________________________________\n",
      "depthwise_conv2d (DepthwiseConv (None, 64, 64, 3)    30          input_1[0][0]                    \n",
      "__________________________________________________________________________________________________\n",
      "batch_normalization (BatchNorma (None, 64, 64, 3)    12          depthwise_conv2d[0][0]           \n",
      "__________________________________________________________________________________________________\n",
      "re_lu (ReLU)                    (None, 64, 64, 3)    0           batch_normalization[0][0]        \n",
      "__________________________________________________________________________________________________\n",
      "conv2d (Conv2D)                 (None, 64, 64, 3)    12          re_lu[0][0]                      \n",
      "__________________________________________________________________________________________________\n",
      "batch_normalization_1 (BatchNor (None, 64, 64, 3)    12          conv2d[0][0]                     \n",
      "__________________________________________________________________________________________________\n",
      "re_lu_1 (ReLU)                  (None, 64, 64, 3)    0           batch_normalization_1[0][0]      \n",
      "__________________________________________________________________________________________________\n",
      "add (Add)                       (None, 64, 64, 3)    0           re_lu_1[0][0]                    \n",
      "                                                                 input_1[0][0]                    \n",
      "==================================================================================================\n",
      "Total params: 66\n",
      "Trainable params: 54\n",
      "Non-trainable params: 12\n",
      "__________________________________________________________________________________________________\n"
     ]
    }
   ],
   "source": [
    "input = Input((64, 64, 3))\n",
    "output = InvertedRes(input, 6)\n",
    "model = Model(inputs=input, outputs=output)\n",
    "model.summary()"
   ]
  },
  {
   "cell_type": "code",
   "execution_count": null,
   "metadata": {},
   "outputs": [],
   "source": []
  }
 ],
 "metadata": {
  "kernelspec": {
   "display_name": "Python 3",
   "language": "python",
   "name": "python3"
  },
  "language_info": {
   "codemirror_mode": {
    "name": "ipython",
    "version": 3
   },
   "file_extension": ".py",
   "mimetype": "text/x-python",
   "name": "python",
   "nbconvert_exporter": "python",
   "pygments_lexer": "ipython3",
   "version": "3.7.7"
  }
 },
 "nbformat": 4,
 "nbformat_minor": 1
}
