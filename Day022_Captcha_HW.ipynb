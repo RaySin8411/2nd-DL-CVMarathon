{
  "nbformat": 4,
  "nbformat_minor": 0,
  "metadata": {
    "accelerator": "GPU",
    "colab": {
      "name": "Day022_Captcha_HW.ipynb",
      "provenance": [],
      "collapsed_sections": []
    },
    "kernelspec": {
      "display_name": "Python 3",
      "language": "python",
      "name": "python3"
    },
    "language_info": {
      "codemirror_mode": {
        "name": "ipython",
        "version": 3
      },
      "file_extension": ".py",
      "mimetype": "text/x-python",
      "name": "python",
      "nbconvert_exporter": "python",
      "pygments_lexer": "ipython3",
      "version": "3.7.4"
    }
  },
  "cells": [
    {
      "cell_type": "markdown",
      "metadata": {
        "id": "TqsivMa0UXRZ",
        "colab_type": "text"
      },
      "source": [
        "## 『本次練習內容』\n",
        "#### 搭建一個能識別驗證碼的模型(CNN+CTC)"
      ]
    },
    {
      "cell_type": "markdown",
      "metadata": {
        "id": "j0ck1xBfUXRe",
        "colab_type": "text"
      },
      "source": [
        "## 『本次練習目的』\n",
        "  #### 了解如何結合CNN與CTC Loss\n",
        "  #### 有時間學員也可以延伸閱讀CNN+RNN+CTC模型\n",
        "  #### 沒有GPU的學員可以使用Colab，可以參考問答區的文章"
      ]
    },
    {
      "cell_type": "code",
      "metadata": {
        "id": "DrCPjUaZUXRg",
        "colab_type": "code",
        "colab": {
          "base_uri": "https://localhost:8080/",
          "height": 306
        },
        "outputId": "1f364956-ed03-4331-d443-4e70bcfbfa73"
      },
      "source": [
        "## 使用Colab可先run這裡的code\n",
        "#假如要連結自己的雲端硬碟再開啟\n",
        "##from google.colab import drive\n",
        "##drive.mount('/content/gdrive')\n",
        "#檢查GPU\n",
        "!nvidia-smi\n",
        "##安裝產生驗證碼的套件"
      ],
      "execution_count": 1,
      "outputs": [
        {
          "output_type": "stream",
          "text": [
            "Thu Mar 19 15:03:29 2020       \n",
            "+-----------------------------------------------------------------------------+\n",
            "| NVIDIA-SMI 440.59       Driver Version: 418.67       CUDA Version: 10.1     |\n",
            "|-------------------------------+----------------------+----------------------+\n",
            "| GPU  Name        Persistence-M| Bus-Id        Disp.A | Volatile Uncorr. ECC |\n",
            "| Fan  Temp  Perf  Pwr:Usage/Cap|         Memory-Usage | GPU-Util  Compute M. |\n",
            "|===============================+======================+======================|\n",
            "|   0  Tesla P100-PCIE...  Off  | 00000000:00:04.0 Off |                    0 |\n",
            "| N/A   37C    P0    25W / 250W |      0MiB / 16280MiB |      0%      Default |\n",
            "+-------------------------------+----------------------+----------------------+\n",
            "                                                                               \n",
            "+-----------------------------------------------------------------------------+\n",
            "| Processes:                                                       GPU Memory |\n",
            "|  GPU       PID   Type   Process name                             Usage      |\n",
            "|=============================================================================|\n",
            "|  No running processes found                                                 |\n",
            "+-----------------------------------------------------------------------------+\n"
          ],
          "name": "stdout"
        }
      ]
    },
    {
      "cell_type": "markdown",
      "metadata": {
        "id": "F_RoGvoLUXRj",
        "colab_type": "text"
      },
      "source": [
        "## 記得先 pip install captcha"
      ]
    },
    {
      "cell_type": "code",
      "metadata": {
        "colab_type": "code",
        "id": "AxGi02yvx1Go",
        "outputId": "c424d82a-2085-49d8-dfec-22917c023fd3",
        "colab": {
          "base_uri": "https://localhost:8080/",
          "height": 139
        }
      },
      "source": [
        "!pip install captcha"
      ],
      "execution_count": 2,
      "outputs": [
        {
          "output_type": "stream",
          "text": [
            "Collecting captcha\n",
            "\u001b[?25l  Downloading https://files.pythonhosted.org/packages/90/fe/d4ddf1e6576073b5eaea76e9b2afa022c626212a30c871968480be3ccb7b/captcha-0.3-py3-none-any.whl (101kB)\n",
            "\r\u001b[K     |███▎                            | 10kB 31.9MB/s eta 0:00:01\r\u001b[K     |██████▌                         | 20kB 3.0MB/s eta 0:00:01\r\u001b[K     |█████████▊                      | 30kB 4.4MB/s eta 0:00:01\r\u001b[K     |█████████████                   | 40kB 2.9MB/s eta 0:00:01\r\u001b[K     |████████████████▏               | 51kB 3.6MB/s eta 0:00:01\r\u001b[K     |███████████████████▍            | 61kB 4.2MB/s eta 0:00:01\r\u001b[K     |██████████████████████▋         | 71kB 4.9MB/s eta 0:00:01\r\u001b[K     |█████████████████████████▉      | 81kB 5.5MB/s eta 0:00:01\r\u001b[K     |█████████████████████████████   | 92kB 6.1MB/s eta 0:00:01\r\u001b[K     |████████████████████████████████| 102kB 3.7MB/s \n",
            "\u001b[?25hRequirement already satisfied: Pillow in /usr/local/lib/python3.6/dist-packages (from captcha) (7.0.0)\n",
            "Installing collected packages: captcha\n",
            "Successfully installed captcha-0.3\n"
          ],
          "name": "stdout"
        }
      ]
    },
    {
      "cell_type": "markdown",
      "metadata": {
        "id": "13-mXvFeUXRn",
        "colab_type": "text"
      },
      "source": [
        "## 產生驗證碼"
      ]
    },
    {
      "cell_type": "code",
      "metadata": {
        "colab_type": "code",
        "id": "h2VVCBKwk6Zv",
        "outputId": "ea8f442f-3563-4a75-d9d1-7e83e73156e4",
        "colab": {
          "base_uri": "https://localhost:8080/",
          "height": 254
        }
      },
      "source": [
        "from captcha.image import ImageCaptcha\n",
        "import matplotlib.pyplot as plt\n",
        "import numpy as np\n",
        "import random\n",
        "\n",
        "%matplotlib inline\n",
        "%config InlineBackend.figure_format = 'retina'\n",
        "\n",
        "import string\n",
        "##驗證碼包含0-10數字以及26個英文字母\n",
        "characters = string.digits + string.ascii_uppercase\n",
        "print(characters)\n",
        "\n",
        "##設定產生圖片尺寸，以及總類別，n_class之所以要加一是為了留一個位置給Blank\n",
        "width, height, n_len, n_class = 170, 80, 4, len(characters)+1\n",
        "\n",
        "##設定產生驗證碼的generator\n",
        "generator = ImageCaptcha(width=width, height=height)\n",
        "\n",
        "##我們先練習固定長度4個字的驗證碼\n",
        "random_str = ''.join([random.choice(characters) for j in range(4)])\n",
        "img = generator.generate_image(random_str)\n",
        "\n",
        "plt.imshow(img)\n",
        "plt.title(random_str)"
      ],
      "execution_count": 3,
      "outputs": [
        {
          "output_type": "stream",
          "text": [
            "0123456789ABCDEFGHIJKLMNOPQRSTUVWXYZ\n"
          ],
          "name": "stdout"
        },
        {
          "output_type": "execute_result",
          "data": {
            "text/plain": [
              "Text(0.5, 1.0, 'IR97')"
            ]
          },
          "metadata": {
            "tags": []
          },
          "execution_count": 3
        },
        {
          "output_type": "display_data",
          "data": {
            "image/png": "[encoded data removed]",
            "text/plain": [
              "<Figure size 432x288 with 1 Axes>"
            ]
          },
          "metadata": {
            "tags": [],
            "image/png": {
              "width": 369,
              "height": 203
            }
          }
        }
      ]
    },
    {
      "cell_type": "markdown",
      "metadata": {
        "id": "QmdExVJGUXRr",
        "colab_type": "text"
      },
      "source": [
        "## 自己搭建一個CNN模型使得output feature Map 高度被壓縮成小於4，8<寬度<20\n",
        "#### 解答的output feature Map 為 (batch_size,1,13,32)"
      ]
    },
    {
      "cell_type": "code",
      "metadata": {
        "id": "SxeXxbmaUXRs",
        "colab_type": "code",
        "colab": {
          "base_uri": "https://localhost:8080/",
          "height": 63
        },
        "outputId": "50cd8f5d-43fb-46df-e3d8-13b247842eb4"
      },
      "source": [
        "from tensorflow.keras.models import *\n",
        "from tensorflow.keras.layers import *\n",
        "from tensorflow.keras import backend as K\n",
        "import tensorflow.keras\n",
        "\n",
        "##CTC Loss需要四個資訊，分別是\n",
        "## Label\n",
        "## 預測\n",
        "## CNN OUTPUT寬度\n",
        "## 預測影像所包含文字長度\n",
        "def ctc_lambda_func(args):\n",
        "    y_pred, labels, input_length, label_length = args\n",
        "    return K.ctc_batch_cost(labels, y_pred, input_length, label_length)"
      ],
      "execution_count": 4,
      "outputs": [
        {
          "output_type": "display_data",
          "data": {
            "text/html": [
              "<p style=\"color: red;\">\n",
              "The default version of TensorFlow in Colab will soon switch to TensorFlow 2.x.<br>\n",
              "We recommend you <a href=\"https://www.tensorflow.org/guide/migrate\" target=\"_blank\">upgrade</a> now \n",
              "or ensure your notebook will continue to use TensorFlow 1.x via the <code>%tensorflow_version 1.x</code> magic:\n",
              "<a href=\"https://colab.research.google.com/notebooks/tensorflow_version.ipynb\" target=\"_blank\">more info</a>.</p>\n"
            ],
            "text/plain": [
              "<IPython.core.display.HTML object>"
            ]
          },
          "metadata": {
            "tags": []
          }
        }
      ]
    },
    {
      "cell_type": "code",
      "metadata": {
        "colab_type": "code",
        "id": "KX3Jq1sClGGn",
        "outputId": "9216479c-1616-480f-c6e8-7eac1d224eb7",
        "scrolled": true,
        "colab": {
          "base_uri": "https://localhost:8080/",
          "height": 139
        }
      },
      "source": [
        "rnn_size = 128\n",
        "\n",
        "input_tensor = Input((height,width, 3))\n",
        "\n",
        "'''自己設計CNN層\n",
        "\n",
        "'''\n",
        "x = Conv2D(32, (3, 3), padding='same')(input_tensor)\n",
        "x = BatchNormalization()(x)\n",
        "x = Activation('relu')(x)\n",
        "x = Conv2D(32, (3, 3), padding='same')(x)\n",
        "x = BatchNormalization()(x)\n",
        "x = Activation('relu')(x)\n",
        "x = MaxPooling2D((2, 2), strides=(2, 2))(x)\n",
        "x = Conv2D(16, (3, 3), padding='same')(x)\n",
        "x = BatchNormalization()(x)\n",
        "x = Activation('relu')(x)\n",
        "x = Conv2D(16, (3, 3), padding='same')(x)\n",
        "x = BatchNormalization()(x)\n",
        "x = Activation('relu')(x)\n",
        "x = MaxPooling2D((2, 2), strides=(2, 2))(x)\n",
        "x = Conv2D(8, (3, 3), padding='same')(x)\n",
        "x = BatchNormalization()(x)\n",
        "x = Activation('relu')(x)\n",
        "x = Conv2D(8, (3, 3), padding='same')(x)\n",
        "x = BatchNormalization()(x)\n",
        "x = Activation('relu')(x)\n",
        "x = MaxPooling2D((2, 2), strides=(2, 2))(x)\n",
        "\n",
        "##記錄輸出CNN尺寸，loss部分需要這個資訊\n",
        "##conv_shape=(Batch_size,輸出高度,輸出寬度,輸出深度)\n",
        "conv_shape = x.get_shape()\n",
        "\n",
        "##從(Batch_size,輸出高度,輸出寬度,輸出深度)變成(Batch_size,輸出寬度,輸出深度*輸出高度)，以符合ctc loss需求\n",
        "x = Reshape(target_shape=(int(conv_shape[2]), int(conv_shape[1]*conv_shape[3])))(x)\n",
        "\n",
        "x = Dense(32, activation='relu')(x)\n",
        "\n",
        "x = Dropout(0.25)(x)\n",
        "x = Dense(n_class, activation='softmax')(x)\n",
        "\n",
        "\n",
        "##包裝用來預測的model\n",
        "base_model = Model(input_tensor, x)\n",
        "\n",
        "\n",
        "##設定要給CTC Loss的資訊\n",
        "labels = Input(name='the_labels', shape=[n_len], dtype='float32')\n",
        "input_length = Input(name='input_length', shape=[1], dtype='int64')\n",
        "label_length = Input(name='label_length', shape=[1], dtype='int64')\n",
        "loss_out = Lambda(ctc_lambda_func, output_shape=(1,), \n",
        "                  name='ctc')([x, labels, input_length, label_length])\n",
        "\n",
        "##這裡的model是用來計算loss\n",
        "model = Model([input_tensor, labels, input_length, label_length], loss_out)\n",
        "\n",
        "##之所以要lambda y_true, y_pred: y_pred是因為我們的loss已經包在網路裡，會output:y_true, y_pred，而我們只需要y_pred\n",
        "model.compile(loss={'ctc': lambda y_true, y_pred: y_pred}, optimizer='Adam')"
      ],
      "execution_count": 5,
      "outputs": [
        {
          "output_type": "stream",
          "text": [
            "WARNING:tensorflow:From /tensorflow-1.15.0/python3.6/tensorflow_core/python/ops/resource_variable_ops.py:1630: calling BaseResourceVariable.__init__ (from tensorflow.python.ops.resource_variable_ops) with constraint is deprecated and will be removed in a future version.\n",
            "Instructions for updating:\n",
            "If using Keras pass *_constraint arguments to layers.\n",
            "WARNING:tensorflow:From /tensorflow-1.15.0/python3.6/tensorflow_core/python/ops/array_ops.py:1475: where (from tensorflow.python.ops.array_ops) is deprecated and will be removed in a future version.\n",
            "Instructions for updating:\n",
            "Use tf.where in 2.0, which has the same broadcast rule as np.where\n"
          ],
          "name": "stdout"
        }
      ]
    },
    {
      "cell_type": "code",
      "metadata": {
        "colab_type": "code",
        "id": "m1YRv0TVN_FL",
        "outputId": "0b9309db-0888-44d7-d1b3-5413fef71912",
        "colab": {
          "base_uri": "https://localhost:8080/",
          "height": 1000
        }
      },
      "source": [
        "model.summary()"
      ],
      "execution_count": 6,
      "outputs": [
        {
          "output_type": "stream",
          "text": [
            "Model: \"model_1\"\n",
            "__________________________________________________________________________________________________\n",
            "Layer (type)                    Output Shape         Param #     Connected to                     \n",
            "==================================================================================================\n",
            "input_1 (InputLayer)            [(None, 80, 170, 3)] 0                                            \n",
            "__________________________________________________________________________________________________\n",
            "conv2d (Conv2D)                 (None, 80, 170, 32)  896         input_1[0][0]                    \n",
            "__________________________________________________________________________________________________\n",
            "batch_normalization (BatchNorma (None, 80, 170, 32)  128         conv2d[0][0]                     \n",
            "__________________________________________________________________________________________________\n",
            "activation (Activation)         (None, 80, 170, 32)  0           batch_normalization[0][0]        \n",
            "__________________________________________________________________________________________________\n",
            "conv2d_1 (Conv2D)               (None, 80, 170, 32)  9248        activation[0][0]                 \n",
            "__________________________________________________________________________________________________\n",
            "batch_normalization_1 (BatchNor (None, 80, 170, 32)  128         conv2d_1[0][0]                   \n",
            "__________________________________________________________________________________________________\n",
            "activation_1 (Activation)       (None, 80, 170, 32)  0           batch_normalization_1[0][0]      \n",
            "__________________________________________________________________________________________________\n",
            "max_pooling2d (MaxPooling2D)    (None, 40, 85, 32)   0           activation_1[0][0]               \n",
            "__________________________________________________________________________________________________\n",
            "conv2d_2 (Conv2D)               (None, 40, 85, 16)   4624        max_pooling2d[0][0]              \n",
            "__________________________________________________________________________________________________\n",
            "batch_normalization_2 (BatchNor (None, 40, 85, 16)   64          conv2d_2[0][0]                   \n",
            "__________________________________________________________________________________________________\n",
            "activation_2 (Activation)       (None, 40, 85, 16)   0           batch_normalization_2[0][0]      \n",
            "__________________________________________________________________________________________________\n",
            "conv2d_3 (Conv2D)               (None, 40, 85, 16)   2320        activation_2[0][0]               \n",
            "__________________________________________________________________________________________________\n",
            "batch_normalization_3 (BatchNor (None, 40, 85, 16)   64          conv2d_3[0][0]                   \n",
            "__________________________________________________________________________________________________\n",
            "activation_3 (Activation)       (None, 40, 85, 16)   0           batch_normalization_3[0][0]      \n",
            "__________________________________________________________________________________________________\n",
            "max_pooling2d_1 (MaxPooling2D)  (None, 20, 42, 16)   0           activation_3[0][0]               \n",
            "__________________________________________________________________________________________________\n",
            "conv2d_4 (Conv2D)               (None, 20, 42, 8)    1160        max_pooling2d_1[0][0]            \n",
            "__________________________________________________________________________________________________\n",
            "batch_normalization_4 (BatchNor (None, 20, 42, 8)    32          conv2d_4[0][0]                   \n",
            "__________________________________________________________________________________________________\n",
            "activation_4 (Activation)       (None, 20, 42, 8)    0           batch_normalization_4[0][0]      \n",
            "__________________________________________________________________________________________________\n",
            "conv2d_5 (Conv2D)               (None, 20, 42, 8)    584         activation_4[0][0]               \n",
            "__________________________________________________________________________________________________\n",
            "batch_normalization_5 (BatchNor (None, 20, 42, 8)    32          conv2d_5[0][0]                   \n",
            "__________________________________________________________________________________________________\n",
            "activation_5 (Activation)       (None, 20, 42, 8)    0           batch_normalization_5[0][0]      \n",
            "__________________________________________________________________________________________________\n",
            "max_pooling2d_2 (MaxPooling2D)  (None, 10, 21, 8)    0           activation_5[0][0]               \n",
            "__________________________________________________________________________________________________\n",
            "reshape (Reshape)               (None, 21, 80)       0           max_pooling2d_2[0][0]            \n",
            "__________________________________________________________________________________________________\n",
            "dense (Dense)                   (None, 21, 32)       2592        reshape[0][0]                    \n",
            "__________________________________________________________________________________________________\n",
            "dropout (Dropout)               (None, 21, 32)       0           dense[0][0]                      \n",
            "__________________________________________________________________________________________________\n",
            "dense_1 (Dense)                 (None, 21, 37)       1221        dropout[0][0]                    \n",
            "__________________________________________________________________________________________________\n",
            "the_labels (InputLayer)         [(None, 4)]          0                                            \n",
            "__________________________________________________________________________________________________\n",
            "input_length (InputLayer)       [(None, 1)]          0                                            \n",
            "__________________________________________________________________________________________________\n",
            "label_length (InputLayer)       [(None, 1)]          0                                            \n",
            "__________________________________________________________________________________________________\n",
            "ctc (Lambda)                    (None, 1)            0           dense_1[0][0]                    \n",
            "                                                                 the_labels[0][0]                 \n",
            "                                                                 input_length[0][0]               \n",
            "                                                                 label_length[0][0]               \n",
            "==================================================================================================\n",
            "Total params: 23,093\n",
            "Trainable params: 22,869\n",
            "Non-trainable params: 224\n",
            "__________________________________________________________________________________________________\n"
          ],
          "name": "stdout"
        }
      ]
    },
    {
      "cell_type": "code",
      "metadata": {
        "colab_type": "code",
        "id": "5Jzb1YnqlJug",
        "colab": {}
      },
      "source": [
        "##設計generator產生training data\n",
        "## 產生包含要給loss的資訊\n",
        "## X=輸入影像\n",
        "## np.ones(batch_size)*int(conv_shape[2])=CNN輸出feature Map寬度\n",
        "## np.ones(batch_size)*n_len=字串長度(可浮動)\n",
        "\n",
        "def gen(batch_size=128):\n",
        "    X = np.zeros((batch_size,height, width, 3), dtype=np.uint8)\n",
        "    y = np.zeros((batch_size, n_len), dtype=np.uint8)\n",
        "    while True:\n",
        "        generator = ImageCaptcha(width=width, height=height)\n",
        "        for i in range(batch_size):\n",
        "            random_str = ''.join([random.choice(characters) for j in range(4)])\n",
        "            X[i] = np.array(generator.generate_image(random_str))\n",
        "            y[i] = [characters.find(x) for x in random_str]\n",
        "        yield [X, y,np.ones(batch_size)*int(conv_shape[2]), np.ones(batch_size)*n_len], np.ones(batch_size)"
      ],
      "execution_count": 0,
      "outputs": []
    },
    {
      "cell_type": "code",
      "metadata": {
        "colab_type": "code",
        "id": "dfcFs6InVQaT",
        "outputId": "e235efbe-6bcb-48c0-9732-dd25a3036e20",
        "colab": {
          "base_uri": "https://localhost:8080/",
          "height": 259
        }
      },
      "source": [
        "next_ge=gen(batch_size=1)\n",
        "test_ge=next(next_ge)\n",
        "plt.imshow(test_ge[0][0][0])\n",
        "print('Label: ',test_ge[0][1])\n",
        "print('CNN輸出寬度: ',test_ge[0][2])\n",
        "print('字串長度(可浮動): ',test_ge[0][3])"
      ],
      "execution_count": 8,
      "outputs": [
        {
          "output_type": "stream",
          "text": [
            "Label:  [[23 35 30 26]]\n",
            "CNN輸出寬度:  [21.]\n",
            "字串長度(可浮動):  [4.]\n"
          ],
          "name": "stdout"
        },
        {
          "output_type": "display_data",
          "data": {
            "image/png": "[encoded data removed]",
            "text/plain": [
              "<Figure size 432x288 with 1 Axes>"
            ]
          },
          "metadata": {
            "tags": [],
            "image/png": {
              "width": 369,
              "height": 191
            }
          }
        }
      ]
    },
    {
      "cell_type": "markdown",
      "metadata": {
        "id": "DVdfDJXUUXR6",
        "colab_type": "text"
      },
      "source": [
        "## 開始訓練"
      ]
    },
    {
      "cell_type": "code",
      "metadata": {
        "colab_type": "code",
        "id": "fqdKnqollUKj",
        "outputId": "8e3710b7-4175-49f3-abc3-a39e2b02387b",
        "colab": {
          "base_uri": "https://localhost:8080/",
          "height": 1000
        }
      },
      "source": [
        "model.fit_generator(gen(32), steps_per_epoch=300, epochs=100)"
      ],
      "execution_count": 9,
      "outputs": [
        {
          "output_type": "stream",
          "text": [
            "Epoch 1/100\n",
            "300/300 [==============================] - 55s 184ms/step - loss: 16.8213\n",
            "Epoch 2/100\n",
            "300/300 [==============================] - 42s 139ms/step - loss: 14.8473\n",
            "Epoch 3/100\n",
            "300/300 [==============================] - 42s 140ms/step - loss: 14.7913\n",
            "Epoch 4/100\n",
            "300/300 [==============================] - 42s 139ms/step - loss: 14.7772\n",
            "Epoch 5/100\n",
            "300/300 [==============================] - 42s 139ms/step - loss: 14.7381\n",
            "Epoch 6/100\n",
            "300/300 [==============================] - 42s 139ms/step - loss: 14.7351\n",
            "Epoch 7/100\n",
            "300/300 [==============================] - 42s 138ms/step - loss: 14.7115\n",
            "Epoch 8/100\n",
            "300/300 [==============================] - 41s 137ms/step - loss: 14.6829\n",
            "Epoch 9/100\n",
            "300/300 [==============================] - 42s 139ms/step - loss: 14.6793\n",
            "Epoch 10/100\n",
            "300/300 [==============================] - 42s 139ms/step - loss: 14.6630\n",
            "Epoch 11/100\n",
            "300/300 [==============================] - 42s 139ms/step - loss: 14.6401\n",
            "Epoch 12/100\n",
            "300/300 [==============================] - 42s 139ms/step - loss: 14.5161\n",
            "Epoch 13/100\n",
            "300/300 [==============================] - 42s 139ms/step - loss: 14.4264\n",
            "Epoch 14/100\n",
            "300/300 [==============================] - 41s 138ms/step - loss: 14.3067\n",
            "Epoch 15/100\n",
            "300/300 [==============================] - 42s 139ms/step - loss: 13.9948\n",
            "Epoch 16/100\n",
            "300/300 [==============================] - 41s 138ms/step - loss: 13.7592\n",
            "Epoch 17/100\n",
            "300/300 [==============================] - 42s 139ms/step - loss: 13.4793\n",
            "Epoch 18/100\n",
            "300/300 [==============================] - 41s 138ms/step - loss: 13.2498\n",
            "Epoch 19/100\n",
            "300/300 [==============================] - 41s 138ms/step - loss: 13.0701\n",
            "Epoch 20/100\n",
            "300/300 [==============================] - 41s 138ms/step - loss: 12.9723\n",
            "Epoch 21/100\n",
            "300/300 [==============================] - 42s 139ms/step - loss: 12.8660\n",
            "Epoch 22/100\n",
            "300/300 [==============================] - 41s 138ms/step - loss: 12.7980\n",
            "Epoch 23/100\n",
            "300/300 [==============================] - 42s 138ms/step - loss: 12.7476\n",
            "Epoch 24/100\n",
            "300/300 [==============================] - 41s 138ms/step - loss: 12.6383\n",
            "Epoch 25/100\n",
            "300/300 [==============================] - 42s 139ms/step - loss: 12.5665\n",
            "Epoch 26/100\n",
            "300/300 [==============================] - 41s 138ms/step - loss: 12.5076\n",
            "Epoch 27/100\n",
            "300/300 [==============================] - 42s 140ms/step - loss: 12.4437\n",
            "Epoch 28/100\n",
            "300/300 [==============================] - 41s 138ms/step - loss: 12.4031\n",
            "Epoch 29/100\n",
            "300/300 [==============================] - 42s 139ms/step - loss: 12.3163\n",
            "Epoch 30/100\n",
            "300/300 [==============================] - 41s 138ms/step - loss: 12.2544\n",
            "Epoch 31/100\n",
            "300/300 [==============================] - 41s 138ms/step - loss: 12.2083\n",
            "Epoch 32/100\n",
            "300/300 [==============================] - 42s 139ms/step - loss: 12.1614\n",
            "Epoch 33/100\n",
            "300/300 [==============================] - 41s 138ms/step - loss: 12.1458\n",
            "Epoch 34/100\n",
            "300/300 [==============================] - 41s 138ms/step - loss: 12.0729\n",
            "Epoch 35/100\n",
            "300/300 [==============================] - 42s 138ms/step - loss: 12.0326\n",
            "Epoch 36/100\n",
            "300/300 [==============================] - 42s 139ms/step - loss: 12.0010\n",
            "Epoch 37/100\n",
            "300/300 [==============================] - 42s 139ms/step - loss: 11.9311\n",
            "Epoch 38/100\n",
            "300/300 [==============================] - 42s 140ms/step - loss: 11.8570\n",
            "Epoch 39/100\n",
            "300/300 [==============================] - 42s 140ms/step - loss: 11.8363\n",
            "Epoch 40/100\n",
            "300/300 [==============================] - 43s 143ms/step - loss: 11.7872\n",
            "Epoch 41/100\n",
            "300/300 [==============================] - 42s 141ms/step - loss: 11.7685\n",
            "Epoch 42/100\n",
            "300/300 [==============================] - 43s 142ms/step - loss: 11.7445\n",
            "Epoch 43/100\n",
            "300/300 [==============================] - 42s 141ms/step - loss: 11.7348\n",
            "Epoch 44/100\n",
            "300/300 [==============================] - 42s 140ms/step - loss: 11.6755\n",
            "Epoch 45/100\n",
            "300/300 [==============================] - 42s 140ms/step - loss: 11.6857\n",
            "Epoch 46/100\n",
            "300/300 [==============================] - 42s 140ms/step - loss: 11.6253\n",
            "Epoch 47/100\n",
            "300/300 [==============================] - 42s 140ms/step - loss: 11.6272\n",
            "Epoch 48/100\n",
            "300/300 [==============================] - 42s 140ms/step - loss: 11.5434\n",
            "Epoch 49/100\n",
            "300/300 [==============================] - 42s 141ms/step - loss: 11.5618\n",
            "Epoch 50/100\n",
            "300/300 [==============================] - 42s 141ms/step - loss: 11.5308\n",
            "Epoch 51/100\n",
            "300/300 [==============================] - 42s 140ms/step - loss: 11.4893\n",
            "Epoch 52/100\n",
            "300/300 [==============================] - 42s 141ms/step - loss: 11.5408\n",
            "Epoch 53/100\n",
            "300/300 [==============================] - 42s 140ms/step - loss: 11.4482\n",
            "Epoch 54/100\n",
            "300/300 [==============================] - 42s 141ms/step - loss: 11.4599\n",
            "Epoch 55/100\n",
            "300/300 [==============================] - 42s 141ms/step - loss: 11.4320\n",
            "Epoch 56/100\n",
            "300/300 [==============================] - 42s 141ms/step - loss: 11.4529\n",
            "Epoch 57/100\n",
            "300/300 [==============================] - 42s 140ms/step - loss: 11.3940\n",
            "Epoch 58/100\n",
            "300/300 [==============================] - 42s 141ms/step - loss: 11.3785\n",
            "Epoch 59/100\n",
            "300/300 [==============================] - 42s 140ms/step - loss: 11.3847\n",
            "Epoch 60/100\n",
            "300/300 [==============================] - 42s 140ms/step - loss: 11.3680\n",
            "Epoch 61/100\n",
            "300/300 [==============================] - 43s 142ms/step - loss: 11.3230\n",
            "Epoch 62/100\n",
            "300/300 [==============================] - 43s 143ms/step - loss: 11.3022\n",
            "Epoch 63/100\n",
            "300/300 [==============================] - 43s 142ms/step - loss: 11.3456\n",
            "Epoch 64/100\n",
            "300/300 [==============================] - 43s 142ms/step - loss: 11.3137\n",
            "Epoch 65/100\n",
            "300/300 [==============================] - 43s 143ms/step - loss: 11.2712\n",
            "Epoch 66/100\n",
            "300/300 [==============================] - 42s 141ms/step - loss: 11.2764\n",
            "Epoch 67/100\n",
            "300/300 [==============================] - 42s 141ms/step - loss: 11.2406\n",
            "Epoch 68/100\n",
            "300/300 [==============================] - 42s 141ms/step - loss: 11.2205\n",
            "Epoch 69/100\n",
            "300/300 [==============================] - 43s 143ms/step - loss: 11.2182\n",
            "Epoch 70/100\n",
            "300/300 [==============================] - 42s 140ms/step - loss: 11.2409\n",
            "Epoch 71/100\n",
            "300/300 [==============================] - 42s 140ms/step - loss: 11.2239\n",
            "Epoch 72/100\n",
            "300/300 [==============================] - 42s 140ms/step - loss: 11.2160\n",
            "Epoch 73/100\n",
            "300/300 [==============================] - 42s 140ms/step - loss: 11.2269\n",
            "Epoch 74/100\n",
            "300/300 [==============================] - 42s 140ms/step - loss: 11.1423\n",
            "Epoch 75/100\n",
            "300/300 [==============================] - 42s 140ms/step - loss: 11.1494\n",
            "Epoch 76/100\n",
            "300/300 [==============================] - 42s 140ms/step - loss: 11.1701\n",
            "Epoch 77/100\n",
            "300/300 [==============================] - 42s 140ms/step - loss: 11.1452\n",
            "Epoch 78/100\n",
            "300/300 [==============================] - 42s 140ms/step - loss: 11.0992\n",
            "Epoch 79/100\n",
            "300/300 [==============================] - 42s 140ms/step - loss: 11.1260\n",
            "Epoch 80/100\n",
            "300/300 [==============================] - 42s 140ms/step - loss: 11.0999\n",
            "Epoch 81/100\n",
            "300/300 [==============================] - 42s 142ms/step - loss: 11.0637\n",
            "Epoch 82/100\n",
            "300/300 [==============================] - 43s 144ms/step - loss: 11.0730\n",
            "Epoch 83/100\n",
            "300/300 [==============================] - 43s 143ms/step - loss: 11.1008\n",
            "Epoch 84/100\n",
            "300/300 [==============================] - 43s 145ms/step - loss: 11.0385\n",
            "Epoch 85/100\n",
            "300/300 [==============================] - 43s 143ms/step - loss: 11.0531\n",
            "Epoch 86/100\n",
            "300/300 [==============================] - 43s 143ms/step - loss: 11.0748\n",
            "Epoch 87/100\n",
            "300/300 [==============================] - 42s 140ms/step - loss: 10.9820\n",
            "Epoch 88/100\n",
            "300/300 [==============================] - 42s 141ms/step - loss: 10.9986\n",
            "Epoch 89/100\n",
            "300/300 [==============================] - 42s 141ms/step - loss: 10.9798\n",
            "Epoch 90/100\n",
            "300/300 [==============================] - 42s 141ms/step - loss: 11.0125\n",
            "Epoch 91/100\n",
            "300/300 [==============================] - 42s 142ms/step - loss: 11.0259\n",
            "Epoch 92/100\n",
            "300/300 [==============================] - 43s 142ms/step - loss: 10.9540\n",
            "Epoch 93/100\n",
            "300/300 [==============================] - 42s 141ms/step - loss: 10.9526\n",
            "Epoch 94/100\n",
            "300/300 [==============================] - 42s 141ms/step - loss: 10.9533\n",
            "Epoch 95/100\n",
            "300/300 [==============================] - 42s 141ms/step - loss: 10.9621\n",
            "Epoch 96/100\n",
            "300/300 [==============================] - 42s 141ms/step - loss: 10.9342\n",
            "Epoch 97/100\n",
            "300/300 [==============================] - 42s 141ms/step - loss: 10.9980\n",
            "Epoch 98/100\n",
            "300/300 [==============================] - 42s 141ms/step - loss: 10.9239\n",
            "Epoch 99/100\n",
            "300/300 [==============================] - 42s 141ms/step - loss: 10.9359\n",
            "Epoch 100/100\n",
            "300/300 [==============================] - 42s 140ms/step - loss: 10.9259\n"
          ],
          "name": "stdout"
        },
        {
          "output_type": "execute_result",
          "data": {
            "text/plain": [
              "<tensorflow.python.keras.callbacks.History at 0x7f14f1ad8a20>"
            ]
          },
          "metadata": {
            "tags": []
          },
          "execution_count": 9
        }
      ]
    },
    {
      "cell_type": "markdown",
      "metadata": {
        "id": "dOupUmBwUXR9",
        "colab_type": "text"
      },
      "source": [
        "## 預測"
      ]
    },
    {
      "cell_type": "code",
      "metadata": {
        "id": "if_MQf_DUXR-",
        "colab_type": "code",
        "colab": {
          "base_uri": "https://localhost:8080/",
          "height": 305
        },
        "outputId": "525ab0d7-68f6-45f5-d9d4-7de912844f99"
      },
      "source": [
        "characters2 = characters + ' '\n",
        "[X_test, y_test, _, _], _  = next(gen(1))\n",
        "y_pred = base_model.predict(X_test)\n",
        "##用ctc_decode得到解答，自己寫可以參考下方\n",
        "out = K.get_value(K.ctc_decode(y_pred, input_length=np.ones(y_pred.shape[0])*y_pred.shape[1], )[0][0])\n",
        "out = ''.join([characters[x] for x in out[0]])\n",
        "y_true = ''.join([characters[x] for x in y_test[0]])\n",
        "\n",
        "plt.imshow(X_test[0])\n",
        "plt.title('pred:' + str(out) + '\\ntrue: ' + str(y_true))\n",
        "\n",
        "argmax = np.argmax(y_pred, axis=2)[0]"
      ],
      "execution_count": 10,
      "outputs": [
        {
          "output_type": "stream",
          "text": [
            "WARNING:tensorflow:From /tensorflow-1.15.0/python3.6/tensorflow_core/python/keras/backend.py:5679: sparse_to_dense (from tensorflow.python.ops.sparse_ops) is deprecated and will be removed in a future version.\n",
            "Instructions for updating:\n",
            "Create a `tf.sparse.SparseTensor` and use `tf.sparse.to_dense` instead.\n"
          ],
          "name": "stdout"
        },
        {
          "output_type": "display_data",
          "data": {
            "image/png": "[encoded data removed]",
            "text/plain": [
              "<Figure size 432x288 with 1 Axes>"
            ]
          },
          "metadata": {
            "tags": [],
            "image/png": {
              "width": 369,
              "height": 217
            }
          }
        }
      ]
    },
    {
      "cell_type": "markdown",
      "metadata": {
        "id": "o9AT50oNUXSC",
        "colab_type": "text"
      },
      "source": [
        "## 自己寫 decode CTC"
      ]
    },
    {
      "cell_type": "code",
      "metadata": {
        "id": "BtgSCOfdUXSD",
        "colab_type": "code",
        "colab": {}
      },
      "source": [
        "## 其中0代表預測為空格，如果預測相同字符之間沒有空格要移除\n",
        "word=''\n",
        "n=''\n",
        "for single_result in y_pred[0].argmax(1):\n",
        "    if single_result != 36:\n",
        "        if n != single_result:\n",
        "            word+=characters[single_result]\n",
        "    n=single_result "
      ],
      "execution_count": 0,
      "outputs": []
    },
    {
      "cell_type": "markdown",
      "metadata": {
        "id": "NhUrfAFoUXSF",
        "colab_type": "text"
      },
      "source": [
        "## 額外參考：加入RNN的神經網路"
      ]
    },
    {
      "cell_type": "code",
      "metadata": {
        "id": "8rZ5V9KOUXSG",
        "colab_type": "code",
        "colab": {}
      },
      "source": [
        "from tensorflow.keras.models import *\n",
        "from tensorflow.keras.layers import *\n",
        "rnn_size = 128\n",
        "\n",
        "input_tensor = Input((height,width, 3))\n",
        "x = input_tensor\n",
        "for i in range(4):\n",
        "    x = Convolution2D(32, (3, 3), activation='relu')(x)\n",
        "    x = tensorflow.keras.layers.BatchNormalization(axis=-1)(x)\n",
        "    x = Convolution2D(32, (3, 3), activation='relu')(x)\n",
        "    x = tensorflow.keras.layers.BatchNormalization(axis=-1)(x)\n",
        "    if i <3:\n",
        "        x = MaxPooling2D(pool_size=(2, 2))(x)\n",
        "    else:\n",
        "        x = MaxPooling2D(pool_size=(2, 1))(x)\n",
        "\n",
        "\n",
        "conv_shape = x.get_shape()\n",
        "x = Reshape(target_shape=(int(conv_shape[2]), int(conv_shape[1]*conv_shape[3])))(x)\n",
        "\n",
        "x = Dense(32, activation='relu')(x)\n",
        "\n",
        "gru_1 = GRU(rnn_size, return_sequences=True, kernel_initializer='he_normal', name='gru1')(x)\n",
        "gru_1b = GRU(rnn_size, return_sequences=True, go_backwards=True, \n",
        "             kernel_initializer='he_normal', name='gru1_b')(x)\n",
        "gru1_merged = tensorflow.keras.layers.add([gru_1, gru_1b])\n",
        "\n",
        "gru_2 = GRU(rnn_size, return_sequences=True, kernel_initializer='he_normal', name='gru2')(gru1_merged)\n",
        "gru_2b = GRU(rnn_size, return_sequences=True, go_backwards=True, \n",
        "             kernel_initializer='he_normal', name='gru2_b')(gru1_merged)\n",
        "x = tensorflow.keras.layers.Concatenate()([gru_2, gru_2b])\n",
        "\n",
        "x = Dropout(0.25)(x)\n",
        "x = Dense(n_class, kernel_initializer='he_normal', activation='softmax')(x)\n",
        "\n",
        "base_model = Model(input_tensor, x)\n",
        "\n",
        "labels = Input(name='the_labels', shape=[n_len], dtype='float32')\n",
        "input_length = Input(name='input_length', shape=[1], dtype='int64')\n",
        "label_length = Input(name='label_length', shape=[1], dtype='int64')\n",
        "loss_out = Lambda(ctc_lambda_func, output_shape=(1,), \n",
        "                  name='ctc')([x, labels, input_length, label_length])\n",
        "\n",
        "model = Model([input_tensor, labels, input_length, label_length], [loss_out])\n",
        "model.compile(loss={'ctc': lambda y_true, y_pred: y_pred}, optimizer='Adam')"
      ],
      "execution_count": 0,
      "outputs": []
    },
    {
      "cell_type": "code",
      "metadata": {
        "id": "Wg3J87aRUXSJ",
        "colab_type": "code",
        "colab": {
          "base_uri": "https://localhost:8080/",
          "height": 1000
        },
        "outputId": "635b6b50-18dc-4b55-9060-e2e675023157"
      },
      "source": [
        "model.summary()"
      ],
      "execution_count": 19,
      "outputs": [
        {
          "output_type": "stream",
          "text": [
            "Model: \"model_3\"\n",
            "__________________________________________________________________________________________________\n",
            "Layer (type)                    Output Shape         Param #     Connected to                     \n",
            "==================================================================================================\n",
            "input_7 (InputLayer)            [(None, 80, 170, 3)] 0                                            \n",
            "__________________________________________________________________________________________________\n",
            "conv2d_42 (Conv2D)              (None, 78, 168, 32)  896         input_7[0][0]                    \n",
            "__________________________________________________________________________________________________\n",
            "batch_normalization_41 (BatchNo (None, 78, 168, 32)  128         conv2d_42[0][0]                  \n",
            "__________________________________________________________________________________________________\n",
            "conv2d_43 (Conv2D)              (None, 76, 166, 32)  9248        batch_normalization_41[0][0]     \n",
            "__________________________________________________________________________________________________\n",
            "batch_normalization_42 (BatchNo (None, 76, 166, 32)  128         conv2d_43[0][0]                  \n",
            "__________________________________________________________________________________________________\n",
            "max_pooling2d_20 (MaxPooling2D) (None, 38, 83, 32)   0           batch_normalization_42[0][0]     \n",
            "__________________________________________________________________________________________________\n",
            "conv2d_44 (Conv2D)              (None, 36, 81, 32)   9248        max_pooling2d_20[0][0]           \n",
            "__________________________________________________________________________________________________\n",
            "batch_normalization_43 (BatchNo (None, 36, 81, 32)   128         conv2d_44[0][0]                  \n",
            "__________________________________________________________________________________________________\n",
            "conv2d_45 (Conv2D)              (None, 34, 79, 32)   9248        batch_normalization_43[0][0]     \n",
            "__________________________________________________________________________________________________\n",
            "batch_normalization_44 (BatchNo (None, 34, 79, 32)   128         conv2d_45[0][0]                  \n",
            "__________________________________________________________________________________________________\n",
            "max_pooling2d_21 (MaxPooling2D) (None, 17, 39, 32)   0           batch_normalization_44[0][0]     \n",
            "__________________________________________________________________________________________________\n",
            "conv2d_46 (Conv2D)              (None, 15, 37, 32)   9248        max_pooling2d_21[0][0]           \n",
            "__________________________________________________________________________________________________\n",
            "batch_normalization_45 (BatchNo (None, 15, 37, 32)   128         conv2d_46[0][0]                  \n",
            "__________________________________________________________________________________________________\n",
            "conv2d_47 (Conv2D)              (None, 13, 35, 32)   9248        batch_normalization_45[0][0]     \n",
            "__________________________________________________________________________________________________\n",
            "batch_normalization_46 (BatchNo (None, 13, 35, 32)   128         conv2d_47[0][0]                  \n",
            "__________________________________________________________________________________________________\n",
            "max_pooling2d_22 (MaxPooling2D) (None, 6, 17, 32)    0           batch_normalization_46[0][0]     \n",
            "__________________________________________________________________________________________________\n",
            "conv2d_48 (Conv2D)              (None, 4, 15, 32)    9248        max_pooling2d_22[0][0]           \n",
            "__________________________________________________________________________________________________\n",
            "batch_normalization_47 (BatchNo (None, 4, 15, 32)    128         conv2d_48[0][0]                  \n",
            "__________________________________________________________________________________________________\n",
            "conv2d_49 (Conv2D)              (None, 2, 13, 32)    9248        batch_normalization_47[0][0]     \n",
            "__________________________________________________________________________________________________\n",
            "batch_normalization_48 (BatchNo (None, 2, 13, 32)    128         conv2d_49[0][0]                  \n",
            "__________________________________________________________________________________________________\n",
            "max_pooling2d_23 (MaxPooling2D) (None, 1, 13, 32)    0           batch_normalization_48[0][0]     \n",
            "__________________________________________________________________________________________________\n",
            "reshape_5 (Reshape)             (None, 13, 32)       0           max_pooling2d_23[0][0]           \n",
            "__________________________________________________________________________________________________\n",
            "dense_6 (Dense)                 (None, 13, 32)       1056        reshape_5[0][0]                  \n",
            "__________________________________________________________________________________________________\n",
            "gru1 (GRU)                      (None, 13, 128)      61824       dense_6[0][0]                    \n",
            "__________________________________________________________________________________________________\n",
            "gru1_b (GRU)                    (None, 13, 128)      61824       dense_6[0][0]                    \n",
            "__________________________________________________________________________________________________\n",
            "add (Add)                       (None, 13, 128)      0           gru1[0][0]                       \n",
            "                                                                 gru1_b[0][0]                     \n",
            "__________________________________________________________________________________________________\n",
            "gru2 (GRU)                      (None, 13, 128)      98688       add[0][0]                        \n",
            "__________________________________________________________________________________________________\n",
            "gru2_b (GRU)                    (None, 13, 128)      98688       add[0][0]                        \n",
            "__________________________________________________________________________________________________\n",
            "concatenate (Concatenate)       (None, 13, 256)      0           gru2[0][0]                       \n",
            "                                                                 gru2_b[0][0]                     \n",
            "__________________________________________________________________________________________________\n",
            "dropout_1 (Dropout)             (None, 13, 256)      0           concatenate[0][0]                \n",
            "__________________________________________________________________________________________________\n",
            "dense_7 (Dense)                 (None, 13, 37)       9509        dropout_1[0][0]                  \n",
            "__________________________________________________________________________________________________\n",
            "the_labels (InputLayer)         [(None, 4)]          0                                            \n",
            "__________________________________________________________________________________________________\n",
            "input_length (InputLayer)       [(None, 1)]          0                                            \n",
            "__________________________________________________________________________________________________\n",
            "label_length (InputLayer)       [(None, 1)]          0                                            \n",
            "__________________________________________________________________________________________________\n",
            "ctc (Lambda)                    (None, 1)            0           dense_7[0][0]                    \n",
            "                                                                 the_labels[0][0]                 \n",
            "                                                                 input_length[0][0]               \n",
            "                                                                 label_length[0][0]               \n",
            "==================================================================================================\n",
            "Total params: 398,245\n",
            "Trainable params: 397,733\n",
            "Non-trainable params: 512\n",
            "__________________________________________________________________________________________________\n"
          ],
          "name": "stdout"
        }
      ]
    },
    {
      "cell_type": "code",
      "metadata": {
        "id": "KuqmT4DwUXSM",
        "colab_type": "code",
        "colab": {}
      },
      "source": [
        ""
      ],
      "execution_count": 0,
      "outputs": []
    }
  ]
}