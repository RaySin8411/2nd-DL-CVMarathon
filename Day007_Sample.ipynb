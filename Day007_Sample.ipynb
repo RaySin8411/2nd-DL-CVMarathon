{
 "cells": [
  {
   "cell_type": "markdown",
   "metadata": {},
   "source": [
    "# 範例\n",
    "\n",
    "根據以下的參考點，嘗試做透視變換\n",
    "\n",
    "```\n",
    "point1 = np.array([[60, 40], [420, 40], [420, 510], [60, 510]], dtype=np.float32)\n",
    "point2 = np.array([[0, 80], [w, 120], [w, 430], [0, 470]], dtype=np.float32)\n",
    "```"
   ]
  },
  {
   "cell_type": "code",
   "execution_count": 1,
   "metadata": {},
   "outputs": [],
   "source": [
    "import cv2\n",
    "import numpy as np\n",
    "\n",
    "img = cv2.imread('data/lena.png')"
   ]
  },
  {
   "cell_type": "markdown",
   "metadata": {},
   "source": [
    "## 透視轉換"
   ]
  },
  {
   "cell_type": "code",
   "execution_count": 2,
   "metadata": {},
   "outputs": [],
   "source": [
    "img_perspective = img.copy()\n",
    "h, w = img.shape[:2]\n",
    "\n",
    "# 設定四對點，並取得 perspective 矩陣\n",
    "point1 = np.array([[60, 40], [420, 40], [420, 510], [60, 510]], dtype=np.float32)\n",
    "point2 = np.array([[0, 80], [w, 120], [w, 430], [0, 470]], dtype=np.float32)\n",
    "M = cv2.getPerspectiveTransform(point1, point2)\n",
    "\n",
    "# perspective 轉換\n",
    "img_perspective = cv2.warpPerspective(img, M, (w, h))\n",
    "\n",
    "# 組合 + 顯示圖片\n",
    "img_show = np.hstack((img, img_perspective))\n",
    "while True:\n",
    "    cv2.imshow('perspective transform', img_show)\n",
    "    k = cv2.waitKey(0)\n",
    "    if k == 27:\n",
    "        cv2.destroyAllWindows()\n",
    "        break"
   ]
  },
  {
   "cell_type": "code",
   "execution_count": null,
   "metadata": {},
   "outputs": [],
   "source": []
  }
 ],
 "metadata": {
  "kernelspec": {
   "display_name": "Python 3",
   "language": "python",
   "name": "python3"
  },
  "language_info": {
   "codemirror_mode": {
    "name": "ipython",
    "version": 3
   },
   "file_extension": ".py",
   "mimetype": "text/x-python",
   "name": "python",
   "nbconvert_exporter": "python",
   "pygments_lexer": "ipython3",
   "version": "3.7.4"
  }
 },
 "nbformat": 4,
 "nbformat_minor": 2
}
